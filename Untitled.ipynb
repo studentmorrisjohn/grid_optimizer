{
 "cells": [
  {
   "cell_type": "code",
   "execution_count": 1,
   "id": "collective-florida",
   "metadata": {},
   "outputs": [],
   "source": [
    "import math\n",
    "import random\n",
    "import csv\n",
    "import matplotlib.pyplot as plt"
   ]
  },
  {
   "cell_type": "code",
   "execution_count": 2,
   "id": "dirty-desperate",
   "metadata": {},
   "outputs": [],
   "source": [
    "def read_csv_column(csv_file):\n",
    "    values = []\n",
    "    with open(csv_file, 'r') as file:\n",
    "        csv_reader = csv.reader(file)\n",
    "        for row in csv_reader:\n",
    "            values.append(float(row[0]))  # Assuming a single column CSV\n",
    "\n",
    "    return values"
   ]
  },
  {
   "cell_type": "code",
   "execution_count": 3,
   "id": "destroyed-nepal",
   "metadata": {},
   "outputs": [],
   "source": [
    "solar_irrad_values = read_csv_column(\"solar_irrad.csv\")\n",
    "ambient_temp_values = read_csv_column(\"ambient_temp.csv\")\n",
    "\n",
    "for i, value in enumerate(ambient_temp_values):\n",
    "    if value == 0:\n",
    "        ambient_temp_values[i] = ambient_temp_values[i - 1]"
   ]
  },
  {
   "cell_type": "code",
   "execution_count": 4,
   "id": "grateful-render",
   "metadata": {},
   "outputs": [],
   "source": [
    "escalation_rate = 0.06\n",
    "interest_rate = 0.07\n",
    "inflation_rate = 0.02"
   ]
  },
  {
   "cell_type": "code",
   "execution_count": 5,
   "id": "focused-ballot",
   "metadata": {},
   "outputs": [],
   "source": [
    "def interest_and_escalation(years):\n",
    "    running_total = 0\n",
    "    for i in range(1, years + 1):\n",
    "        running_total += ( (1 + escalation_rate) / (1 + interest_rate) ) ** i\n",
    "        \n",
    "    return running_total\n",
    "\n",
    "def interest_and_inflation(years, multiplier):\n",
    "    running_total = 0\n",
    "    for i in range(1, years + 1):\n",
    "        running_total += ( (1 + inflation_rate) / (1 + interest_rate) ) ** (i * multiplier)\n",
    "        \n",
    "    return running_total"
   ]
  },
  {
   "cell_type": "code",
   "execution_count": 6,
   "id": "sacred-brazilian",
   "metadata": {},
   "outputs": [],
   "source": [
    "total_load = 1943912.67"
   ]
  },
  {
   "cell_type": "markdown",
   "id": "polar-upgrade",
   "metadata": {},
   "source": [
    "---\n",
    "#### PV Output"
   ]
  },
  {
   "cell_type": "code",
   "execution_count": 7,
   "id": "cardiovascular-department",
   "metadata": {},
   "outputs": [],
   "source": [
    "pv_reference_efficiency = 0.2 # ηr\n",
    "pv_mppt_efficiency = 1 # ηt\n",
    "pv_temperature_coefficient = 0.005 # β\n",
    "pv_reference_temperature = 25 # Tr\n",
    "pv_noct = 47 # NOCT"
   ]
  },
  {
   "cell_type": "code",
   "execution_count": 8,
   "id": "hourly-aruba",
   "metadata": {},
   "outputs": [],
   "source": [
    "def pv_solar_irrad(t):\n",
    "    return solar_irrad_values[t]"
   ]
  },
  {
   "cell_type": "code",
   "execution_count": 9,
   "id": "apparent-object",
   "metadata": {},
   "outputs": [],
   "source": [
    "def pv_ambient_temp(t):\n",
    "    return ambient_temp_values[t]"
   ]
  },
  {
   "cell_type": "code",
   "execution_count": 10,
   "id": "soviet-exercise",
   "metadata": {},
   "outputs": [],
   "source": [
    "def pv_efficiency(t):\n",
    "    return pv_reference_efficiency * pv_mppt_efficiency * (1 - pv_temperature_coefficient * (pv_ambient_temp(t) - pv_reference_temperature) - pv_temperature_coefficient * pv_solar_irrad(t) * ((pv_noct-20)/800) * (1 - pv_reference_efficiency*pv_mppt_efficiency))"
   ]
  },
  {
   "cell_type": "code",
   "execution_count": 11,
   "id": "effective-inventory",
   "metadata": {},
   "outputs": [],
   "source": [
    "def power_of_pv(area_pv, t):\n",
    "    return pv_solar_irrad(t) * pv_efficiency(t) * area_pv"
   ]
  },
  {
   "cell_type": "code",
   "execution_count": 12,
   "id": "rubber-traveler",
   "metadata": {},
   "outputs": [],
   "source": [
    "def get_max_pv(area_pv):\n",
    "    return max([power_of_pv(area_pv, x) for x in range(1, 8761)])"
   ]
  },
  {
   "cell_type": "code",
   "execution_count": 13,
   "id": "human-enemy",
   "metadata": {},
   "outputs": [],
   "source": [
    "def total_power_of_pv(area_pv):\n",
    "    hours = 8760\n",
    "    running_total = 0\n",
    "    \n",
    "    for t in range(1, hours + 1):\n",
    "        running_total += power_of_pv(area_pv, t)\n",
    "    \n",
    "    return running_total"
   ]
  },
  {
   "cell_type": "code",
   "execution_count": 14,
   "id": "introductory-combat",
   "metadata": {},
   "outputs": [
    {
     "data": {
      "text/plain": [
       "4.8656060104619785"
      ]
     },
     "execution_count": 14,
     "metadata": {},
     "output_type": "execute_result"
    }
   ],
   "source": [
    "power_of_pv(55, 5)"
   ]
  },
  {
   "cell_type": "code",
   "execution_count": 15,
   "id": "clean-drive",
   "metadata": {},
   "outputs": [
    {
     "data": {
      "text/plain": [
       "13425.983228519275"
      ]
     },
     "execution_count": 15,
     "metadata": {},
     "output_type": "execute_result"
    }
   ],
   "source": [
    "total_power_of_pv(55)"
   ]
  },
  {
   "cell_type": "code",
   "execution_count": 16,
   "id": "entitled-aging",
   "metadata": {},
   "outputs": [
    {
     "data": {
      "text/plain": [
       "9.735965917018849"
      ]
     },
     "execution_count": 16,
     "metadata": {},
     "output_type": "execute_result"
    }
   ],
   "source": [
    "get_max_pv(55)"
   ]
  },
  {
   "cell_type": "markdown",
   "id": "proper-rainbow",
   "metadata": {},
   "source": [
    "---\n",
    "#### Biomass Output"
   ]
  },
  {
   "cell_type": "code",
   "execution_count": 17,
   "id": "august-direction",
   "metadata": {},
   "outputs": [],
   "source": [
    "bm_calorific_value = 20 # CV_BM\n",
    "bm_efficiency = 0.9 # ηBM\n",
    "bm_operating_hours = 3 # Ot"
   ]
  },
  {
   "cell_type": "code",
   "execution_count": 18,
   "id": "dynamic-possible",
   "metadata": {},
   "outputs": [],
   "source": [
    "def power_of_bm(total_organic_material):\n",
    "    return (total_organic_material * 1000 * bm_calorific_value * bm_efficiency) / (8760 * bm_operating_hours)"
   ]
  },
  {
   "cell_type": "code",
   "execution_count": 19,
   "id": "contemporary-completion",
   "metadata": {},
   "outputs": [],
   "source": [
    "def total_power_of_bm(total_organic_material):\n",
    "    hours = 8760\n",
    "    running_total = 0\n",
    "    \n",
    "    for t in range(1, hours + 1):\n",
    "        running_total += power_of_bm(total_organic_material)\n",
    "    \n",
    "    return running_total"
   ]
  },
  {
   "cell_type": "code",
   "execution_count": 20,
   "id": "mechanical-broadcast",
   "metadata": {},
   "outputs": [
    {
     "data": {
      "text/plain": [
       "0.684931506849315"
      ]
     },
     "execution_count": 20,
     "metadata": {},
     "output_type": "execute_result"
    }
   ],
   "source": [
    "power_of_bm(1)"
   ]
  },
  {
   "cell_type": "code",
   "execution_count": 21,
   "id": "corresponding-smell",
   "metadata": {},
   "outputs": [
    {
     "data": {
      "text/plain": [
       "6000.000000000293"
      ]
     },
     "execution_count": 21,
     "metadata": {},
     "output_type": "execute_result"
    }
   ],
   "source": [
    "total_power_of_bm(1)"
   ]
  },
  {
   "cell_type": "markdown",
   "id": "interracial-guest",
   "metadata": {},
   "source": [
    "---\n",
    "#### Diesel Output"
   ]
  },
  {
   "cell_type": "code",
   "execution_count": 22,
   "id": "loaded-layout",
   "metadata": {},
   "outputs": [],
   "source": [
    "diesel_ag = 0.246 # Ag\n",
    "diesel_bg = 0.08415 # Bg\n",
    "diesel_fuel_consumption = 9 # Fdg"
   ]
  },
  {
   "cell_type": "code",
   "execution_count": 23,
   "id": "standing-valuable",
   "metadata": {},
   "outputs": [],
   "source": [
    "def power_of_diesel(diesel_capacity):\n",
    "    return (diesel_fuel_consumption - diesel_bg * diesel_capacity) / diesel_ag"
   ]
  },
  {
   "cell_type": "code",
   "execution_count": 24,
   "id": "tired-wheat",
   "metadata": {},
   "outputs": [],
   "source": [
    "def total_power_of_diesel(diesel_capacity):\n",
    "    hours = 8760\n",
    "    running_total = 0\n",
    "    \n",
    "    for t in range(1, hours + 1):\n",
    "        running_total += power_of_diesel(diesel_capacity)\n",
    "    \n",
    "    return running_total"
   ]
  },
  {
   "cell_type": "code",
   "execution_count": 25,
   "id": "hollywood-reference",
   "metadata": {},
   "outputs": [
    {
     "data": {
      "text/plain": [
       "26.323170731707318"
      ]
     },
     "execution_count": 25,
     "metadata": {},
     "output_type": "execute_result"
    }
   ],
   "source": [
    "power_of_diesel(30)"
   ]
  },
  {
   "cell_type": "code",
   "execution_count": 26,
   "id": "bibliographic-slave",
   "metadata": {},
   "outputs": [
    {
     "data": {
      "text/plain": [
       "230590.97560978512"
      ]
     },
     "execution_count": 26,
     "metadata": {},
     "output_type": "execute_result"
    }
   ],
   "source": [
    "total_power_of_diesel(30)"
   ]
  },
  {
   "cell_type": "markdown",
   "id": "absent-belgium",
   "metadata": {},
   "source": [
    "---\n",
    "#### Battery Capacity and Inverter Output"
   ]
  },
  {
   "cell_type": "code",
   "execution_count": 27,
   "id": "welcome-nickel",
   "metadata": {},
   "outputs": [],
   "source": [
    "battery_autonomy = 1 # AD\n",
    "battery_dod = 1 # DOD\n",
    "battery_efficiency = 0.98 # ηb\n",
    "\n",
    "inverter_efficiency = 0.97 # ηi"
   ]
  },
  {
   "cell_type": "code",
   "execution_count": 28,
   "id": "least-alias",
   "metadata": {},
   "outputs": [],
   "source": [
    "def battery_capacity(load_demand):\n",
    "    return (load_demand * battery_autonomy) / (battery_dod * inverter_efficiency * battery_efficiency)"
   ]
  },
  {
   "cell_type": "code",
   "execution_count": 29,
   "id": "tamil-trustee",
   "metadata": {},
   "outputs": [],
   "source": [
    "def total_battery_capacity(load_demand):\n",
    "    hours = 8760\n",
    "    running_total = 0\n",
    "    \n",
    "    for t in range(1, hours + 1):\n",
    "        running_total += battery_capacity(load_demand)\n",
    "    \n",
    "    return running_total"
   ]
  },
  {
   "cell_type": "code",
   "execution_count": 30,
   "id": "superior-memorabilia",
   "metadata": {},
   "outputs": [
    {
     "data": {
      "text/plain": [
       "105.19671786240269"
      ]
     },
     "execution_count": 30,
     "metadata": {},
     "output_type": "execute_result"
    }
   ],
   "source": [
    "battery_capacity(100)"
   ]
  },
  {
   "cell_type": "code",
   "execution_count": 31,
   "id": "lonely-measurement",
   "metadata": {},
   "outputs": [
    {
     "data": {
      "text/plain": [
       "921523.2484745461"
      ]
     },
     "execution_count": 31,
     "metadata": {},
     "output_type": "execute_result"
    }
   ],
   "source": [
    "total_battery_capacity(100)"
   ]
  },
  {
   "cell_type": "markdown",
   "id": "vanilla-monitor",
   "metadata": {},
   "source": [
    "---\n",
    "#### PV Cost"
   ]
  },
  {
   "cell_type": "code",
   "execution_count": 32,
   "id": "valid-disability",
   "metadata": {},
   "outputs": [],
   "source": [
    "pv_capital_cost = 8575.94 # λPV\n",
    "pv_om_cost = 857.594 # APV"
   ]
  },
  {
   "cell_type": "code",
   "execution_count": 33,
   "id": "oriental-lighter",
   "metadata": {},
   "outputs": [],
   "source": [
    "def pv_initial_cost(area_pv):\n",
    "    return pv_capital_cost * area_pv"
   ]
  },
  {
   "cell_type": "code",
   "execution_count": 34,
   "id": "central-romance",
   "metadata": {},
   "outputs": [],
   "source": [
    "def pv_operations_and_maintenance_cost(area_pv, years):\n",
    "    interest_and_escalation_value = interest_and_escalation(years)\n",
    "    return pv_om_cost * area_pv * interest_and_escalation_value"
   ]
  },
  {
   "cell_type": "code",
   "execution_count": 35,
   "id": "exact-concentration",
   "metadata": {},
   "outputs": [],
   "source": [
    "def cost_of_pv(area_pv, years):\n",
    "    return pv_initial_cost(area_pv) + pv_operations_and_maintenance_cost(area_pv, years)"
   ]
  },
  {
   "cell_type": "code",
   "execution_count": 36,
   "id": "domestic-warren",
   "metadata": {},
   "outputs": [
    {
     "data": {
      "text/plain": [
       "2414025.608130089"
      ]
     },
     "execution_count": 36,
     "metadata": {},
     "output_type": "execute_result"
    }
   ],
   "source": [
    "cost_of_pv(100, 20)"
   ]
  },
  {
   "cell_type": "markdown",
   "id": "fourth-dryer",
   "metadata": {},
   "source": [
    "---\n",
    "#### Biomass Cost"
   ]
  },
  {
   "cell_type": "code",
   "execution_count": 37,
   "id": "touched-heating",
   "metadata": {},
   "outputs": [],
   "source": [
    "bm_capital_cost = 336855.3 # λbg\n",
    "bm_annual_fixed_cost = 16842.765 # θ1\n",
    "bm_variable_om_cost = 0.0042 # θ2\n",
    "bm_annual_working = 5 # Pw"
   ]
  },
  {
   "cell_type": "code",
   "execution_count": 38,
   "id": "exterior-surfing",
   "metadata": {},
   "outputs": [],
   "source": [
    "def bm_initial_cost(total_organic_material):\n",
    "    return bm_capital_cost * power_of_bm(total_organic_material)"
   ]
  },
  {
   "cell_type": "code",
   "execution_count": 39,
   "id": "opposite-provision",
   "metadata": {},
   "outputs": [],
   "source": [
    "def bm_operations_and_maintenance_cost(total_organic_material, years):\n",
    "    interest_and_escalation_value = interest_and_escalation(years)\n",
    "    return bm_annual_fixed_cost * power_of_bm(total_organic_material) * interest_and_escalation_value + bm_variable_om_cost * bm_annual_working * interest_and_escalation_value"
   ]
  },
  {
   "cell_type": "code",
   "execution_count": 40,
   "id": "approximate-empire",
   "metadata": {},
   "outputs": [],
   "source": [
    "def cost_of_bm(total_organic_material, years):\n",
    "    return bm_initial_cost(total_organic_material) + bm_operations_and_maintenance_cost(total_organic_material, years)"
   ]
  },
  {
   "cell_type": "code",
   "execution_count": 41,
   "id": "absolute-wallpaper",
   "metadata": {},
   "outputs": [
    {
     "data": {
      "text/plain": [
       "1434031.6312197836"
      ]
     },
     "execution_count": 41,
     "metadata": {},
     "output_type": "execute_result"
    }
   ],
   "source": [
    "cost_of_bm(5, 5)"
   ]
  },
  {
   "cell_type": "code",
   "execution_count": 42,
   "id": "close-election",
   "metadata": {},
   "outputs": [
    {
     "data": {
      "text/plain": [
       "230722.80821917806"
      ]
     },
     "execution_count": 42,
     "metadata": {},
     "output_type": "execute_result"
    }
   ],
   "source": [
    "bm_initial_cost(1)"
   ]
  },
  {
   "cell_type": "markdown",
   "id": "major-identifier",
   "metadata": {},
   "source": [
    "---\n",
    "#### Diesel Cost"
   ]
  },
  {
   "cell_type": "code",
   "execution_count": 43,
   "id": "electoral-filling",
   "metadata": {},
   "outputs": [],
   "source": [
    "diesel_capital_cost = 12666.67\n",
    "diesel_om_cost = 2.72\n",
    "diesel_fuel_cost = 61.35\n",
    "diesel_n_run = 5\n",
    "diesel_lifetime = 7\n",
    "diesel_replacement = 12666.67"
   ]
  },
  {
   "cell_type": "code",
   "execution_count": 44,
   "id": "planned-framing",
   "metadata": {},
   "outputs": [],
   "source": [
    "def diesel_initial_cost(diesel_capacity):\n",
    "    return diesel_capital_cost * power_of_diesel(diesel_capacity)"
   ]
  },
  {
   "cell_type": "code",
   "execution_count": 45,
   "id": "level-seven",
   "metadata": {},
   "outputs": [],
   "source": [
    "def diesel_operations_and_maintenance_cost(years):\n",
    "    interest_and_escalation_value = interest_and_escalation(years)\n",
    "    return diesel_om_cost * diesel_n_run * interest_and_escalation_value"
   ]
  },
  {
   "cell_type": "code",
   "execution_count": 46,
   "id": "numeric-strand",
   "metadata": {},
   "outputs": [],
   "source": [
    "def diesel_replacement_cost(diesel_capacity, years):\n",
    "    num_of_replacements = math.floor(years/diesel_lifetime)\n",
    "    interest_and_inflation_value = interest_and_inflation(num_of_replacements, diesel_lifetime)\n",
    "    \n",
    "    return diesel_replacement * power_of_diesel(diesel_capacity) * interest_and_inflation_value"
   ]
  },
  {
   "cell_type": "code",
   "execution_count": 47,
   "id": "secure-check",
   "metadata": {},
   "outputs": [],
   "source": [
    "def diesel_year_fuel_cost():\n",
    "    running_total = 0\n",
    "    for i in range(1, 8761):\n",
    "        running_total += diesel_fuel_cost * diesel_fuel_consumption\n",
    "        \n",
    "    return running_total"
   ]
  },
  {
   "cell_type": "code",
   "execution_count": 48,
   "id": "turkish-arizona",
   "metadata": {},
   "outputs": [],
   "source": [
    "def diesel_total_fuel_cost(years):\n",
    "    interest_and_inflation_value = interest_and_inflation(years, 1)\n",
    "    return diesel_year_fuel_cost() * interest_and_inflation_value"
   ]
  },
  {
   "cell_type": "code",
   "execution_count": 49,
   "id": "refined-development",
   "metadata": {},
   "outputs": [],
   "source": [
    "def cost_of_diesel(diesel_capacity, years):\n",
    "    return diesel_initial_cost(diesel_capacity) + diesel_operations_and_maintenance_cost(years) + diesel_replacement_cost(diesel_capacity, years) + diesel_total_fuel_cost(years)"
   ]
  },
  {
   "cell_type": "code",
   "execution_count": 50,
   "id": "fatty-syntax",
   "metadata": {},
   "outputs": [
    {
     "data": {
      "text/plain": [
       "4970251.67735257"
      ]
     },
     "execution_count": 50,
     "metadata": {},
     "output_type": "execute_result"
    }
   ],
   "source": [
    "cost_of_diesel(24, 1)"
   ]
  },
  {
   "cell_type": "code",
   "execution_count": 51,
   "id": "fancy-cricket",
   "metadata": {},
   "outputs": [
    {
     "data": {
      "text/plain": [
       "333426.91701219516"
      ]
     },
     "execution_count": 51,
     "metadata": {},
     "output_type": "execute_result"
    }
   ],
   "source": [
    "diesel_initial_cost(30)"
   ]
  },
  {
   "cell_type": "code",
   "execution_count": 52,
   "id": "pending-booth",
   "metadata": {},
   "outputs": [
    {
     "data": {
      "text/plain": [
       "26.323170731707318"
      ]
     },
     "execution_count": 52,
     "metadata": {},
     "output_type": "execute_result"
    }
   ],
   "source": [
    "power_of_diesel(30)"
   ]
  },
  {
   "cell_type": "code",
   "execution_count": 53,
   "id": "specified-saint",
   "metadata": {},
   "outputs": [
    {
     "data": {
      "text/plain": [
       "66.11704957412022"
      ]
     },
     "execution_count": 53,
     "metadata": {},
     "output_type": "execute_result"
    }
   ],
   "source": [
    "diesel_operations_and_maintenance_cost(5)"
   ]
  },
  {
   "cell_type": "code",
   "execution_count": 54,
   "id": "fantastic-olympus",
   "metadata": {},
   "outputs": [
    {
     "data": {
      "text/plain": [
       "0.0"
      ]
     },
     "execution_count": 54,
     "metadata": {},
     "output_type": "execute_result"
    }
   ],
   "source": [
    "diesel_replacement_cost(30, 5)"
   ]
  },
  {
   "cell_type": "code",
   "execution_count": 55,
   "id": "traditional-anniversary",
   "metadata": {},
   "outputs": [
    {
     "data": {
      "text/plain": [
       "20997833.94101922"
      ]
     },
     "execution_count": 55,
     "metadata": {},
     "output_type": "execute_result"
    }
   ],
   "source": [
    "diesel_total_fuel_cost(5)"
   ]
  },
  {
   "cell_type": "markdown",
   "id": "effective-madison",
   "metadata": {},
   "source": [
    "---\n",
    "#### BESS Cost"
   ]
  },
  {
   "cell_type": "code",
   "execution_count": 56,
   "id": "stopped-horror",
   "metadata": {},
   "outputs": [],
   "source": [
    "battery_lifespan = 5\n",
    "battery_capital_cost = 1337.875\n",
    "battery_om_cost = 133.7875"
   ]
  },
  {
   "cell_type": "code",
   "execution_count": 57,
   "id": "gorgeous-calcium",
   "metadata": {},
   "outputs": [],
   "source": [
    "def battery_replacement_escalation_and_inflation(years):\n",
    "    num_of_replacements = math.floor(years/battery_lifespan)\n",
    "    \n",
    "    running_total = 0\n",
    "    \n",
    "    for i in range(1, num_of_replacements + 1):\n",
    "        running_total += ( (1 + escalation_rate) / (1 + inflation_rate) ) ** ((i-1) * battery_lifespan)\n",
    "        \n",
    "    return running_total"
   ]
  },
  {
   "cell_type": "code",
   "execution_count": 58,
   "id": "advance-tanzania",
   "metadata": {},
   "outputs": [],
   "source": [
    "def battery_initial_cost(load_demand):\n",
    "    return battery_capital_cost * battery_capacity(load_demand)"
   ]
  },
  {
   "cell_type": "code",
   "execution_count": 59,
   "id": "satisfied-debate",
   "metadata": {},
   "outputs": [],
   "source": [
    "def battery_operations_and_maintenance_cost(load_demand, years):\n",
    "    battery_replacement_escalation_and_inflation_value = battery_replacement_escalation_and_inflation(years)\n",
    "    return battery_om_cost * battery_capacity(load_demand) * battery_replacement_escalation_and_inflation_value"
   ]
  },
  {
   "cell_type": "code",
   "execution_count": 60,
   "id": "computational-humor",
   "metadata": {},
   "outputs": [],
   "source": [
    "def cost_of_battery(load_demand, years):\n",
    "    return battery_initial_cost(load_demand) + battery_operations_and_maintenance_cost(load_demand, years)"
   ]
  },
  {
   "cell_type": "code",
   "execution_count": 61,
   "id": "prostate-sequence",
   "metadata": {},
   "outputs": [
    {
     "data": {
      "text/plain": [
       "154814.0648011782"
      ]
     },
     "execution_count": 61,
     "metadata": {},
     "output_type": "execute_result"
    }
   ],
   "source": [
    "cost_of_battery(100, 5)"
   ]
  },
  {
   "cell_type": "markdown",
   "id": "incident-rings",
   "metadata": {},
   "source": [
    "---\n",
    "#### Inverter Cost"
   ]
  },
  {
   "cell_type": "code",
   "execution_count": 62,
   "id": "sensitive-dispatch",
   "metadata": {},
   "outputs": [],
   "source": [
    "inverter_capital_cost = 8575.94\n",
    "inverter_om_cost = 857.594"
   ]
  },
  {
   "cell_type": "code",
   "execution_count": 63,
   "id": "former-victoria",
   "metadata": {},
   "outputs": [],
   "source": [
    "def inverter_initial_cost(area_pv):\n",
    "    return inverter_capital_cost * get_max_pv(area_pv)"
   ]
  },
  {
   "cell_type": "code",
   "execution_count": 64,
   "id": "forced-series",
   "metadata": {},
   "outputs": [],
   "source": [
    "def inverter_operations_and_maintenance_cost(years):\n",
    "    interest_and_escalation_value = interest_and_escalation(years)\n",
    "    return inverter_om_cost * interest_and_escalation_value"
   ]
  },
  {
   "cell_type": "code",
   "execution_count": 65,
   "id": "interstate-decimal",
   "metadata": {},
   "outputs": [],
   "source": [
    "def cost_of_inverter(area_pv, years):\n",
    "    return inverter_initial_cost(area_pv) + inverter_operations_and_maintenance_cost(years)"
   ]
  },
  {
   "cell_type": "code",
   "execution_count": 66,
   "id": "fluid-colorado",
   "metadata": {},
   "outputs": [
    {
     "data": {
      "text/plain": [
       "87664.29373849186"
      ]
     },
     "execution_count": 66,
     "metadata": {},
     "output_type": "execute_result"
    }
   ],
   "source": [
    "cost_of_inverter(55, 5)"
   ]
  },
  {
   "cell_type": "code",
   "execution_count": 67,
   "id": "french-white",
   "metadata": {},
   "outputs": [
    {
     "data": {
      "text/plain": [
       "9.735965917018849"
      ]
     },
     "execution_count": 67,
     "metadata": {},
     "output_type": "execute_result"
    }
   ],
   "source": [
    "get_max_pv(55)"
   ]
  },
  {
   "cell_type": "markdown",
   "id": "corporate-savannah",
   "metadata": {},
   "source": [
    "---\n",
    "#### Net Present Cost"
   ]
  },
  {
   "cell_type": "code",
   "execution_count": 68,
   "id": "hollywood-writer",
   "metadata": {},
   "outputs": [],
   "source": [
    "def net_present_cost(area_pv, total_organic_material, diesel_capacity, load_demand, years):\n",
    "    pv_npc =  cost_of_pv(area_pv, years)\n",
    "    bm_npc = cost_of_bm(total_organic_material, years)\n",
    "    diesel_npc = cost_of_diesel(diesel_capacity, years)\n",
    "    battery_npc = cost_of_battery(load_demand, years)\n",
    "    inverter_npc = cost_of_inverter(area_pv, years)\n",
    "    \n",
    "#     print(\"PV NPC: %.2f\" % pv_npc)\n",
    "#     print(\"BM NPC: %.2f\" % bm_npc)\n",
    "#     print(\"DIESEL NPC: %.2f\" % diesel_npc)\n",
    "#     print(\"BATTERY NPC: %.2f\" % battery_npc)\n",
    "#     print(\"INVERTER NPC: %.2f\" % inverter_npc)\n",
    "\n",
    "    \n",
    "    return pv_npc + bm_npc + diesel_npc + battery_npc + inverter_npc"
   ]
  },
  {
   "cell_type": "code",
   "execution_count": 69,
   "id": "french-seating",
   "metadata": {},
   "outputs": [],
   "source": [
    "npc = net_present_cost(1, 1, 1, 1, 20)"
   ]
  },
  {
   "cell_type": "markdown",
   "id": "immune-yukon",
   "metadata": {},
   "source": [
    "---\n",
    "#### LPSP"
   ]
  },
  {
   "cell_type": "code",
   "execution_count": 70,
   "id": "accepting-dinner",
   "metadata": {},
   "outputs": [],
   "source": [
    "def lpsp(area_pv, total_organic_material, diesel_capacity, load_demand):\n",
    "    return (total_load - total_power_of_pv(area_pv) + total_power_of_diesel(diesel_capacity) + total_battery_capacity(load_demand) ) / (total_load)    "
   ]
  },
  {
   "cell_type": "markdown",
   "id": "hungarian-acoustic",
   "metadata": {},
   "source": [
    "---\n",
    "#### LCOE"
   ]
  },
  {
   "cell_type": "code",
   "execution_count": 71,
   "id": "younger-representative",
   "metadata": {},
   "outputs": [],
   "source": [
    "def crf(years):\n",
    "    return ( interest_rate * (1 + interest_rate)**years ) / (-1 + (1 + interest_rate)**years )"
   ]
  },
  {
   "cell_type": "code",
   "execution_count": 72,
   "id": "leading-pilot",
   "metadata": {},
   "outputs": [],
   "source": [
    "def get_lcoe(npc, years):\n",
    "    return (npc * crf(years)) / total_load"
   ]
  },
  {
   "cell_type": "code",
   "execution_count": 73,
   "id": "grateful-refrigerator",
   "metadata": {},
   "outputs": [
    {
     "data": {
      "text/plain": [
       "3.0245950197111187"
      ]
     },
     "execution_count": 73,
     "metadata": {},
     "output_type": "execute_result"
    }
   ],
   "source": [
    "get_lcoe(net_present_cost(1, 1, 1, 1, 20), 20)"
   ]
  },
  {
   "cell_type": "code",
   "execution_count": 74,
   "id": "retired-score",
   "metadata": {},
   "outputs": [
    {
     "data": {
      "text/plain": [
       "62288021.41833636"
      ]
     },
     "execution_count": 74,
     "metadata": {},
     "output_type": "execute_result"
    }
   ],
   "source": [
    "npc"
   ]
  },
  {
   "cell_type": "code",
   "execution_count": null,
   "id": "knowing-police",
   "metadata": {},
   "outputs": [],
   "source": []
  },
  {
   "cell_type": "code",
   "execution_count": null,
   "id": "imported-yahoo",
   "metadata": {},
   "outputs": [],
   "source": []
  },
  {
   "cell_type": "code",
   "execution_count": null,
   "id": "thirty-confidence",
   "metadata": {},
   "outputs": [],
   "source": []
  },
  {
   "cell_type": "code",
   "execution_count": null,
   "id": "tracked-specific",
   "metadata": {},
   "outputs": [],
   "source": []
  },
  {
   "cell_type": "code",
   "execution_count": null,
   "id": "dirty-pencil",
   "metadata": {},
   "outputs": [],
   "source": []
  },
  {
   "cell_type": "markdown",
   "id": "instrumental-walker",
   "metadata": {},
   "source": [
    "---\n",
    "#### Simulalted Annealing"
   ]
  },
  {
   "cell_type": "code",
   "execution_count": null,
   "id": "unknown-smell",
   "metadata": {},
   "outputs": [],
   "source": []
  },
  {
   "cell_type": "code",
   "execution_count": 85,
   "id": "italic-hardwood",
   "metadata": {
    "scrolled": true
   },
   "outputs": [],
   "source": [
    "# Define the cost function that calculates the net present cost based on the decision variables\n",
    "def calculate_net_present_cost(pv_area, generator_capacity, battery_capacity, organic_material):\n",
    "    # Your implementation of the cost function goes here\n",
    "    # This function should return the net present cost based on the given decision variables\n",
    "    # You can use any formulas or calculations specific to your hybrid energy system\n",
    "\n",
    "    # For this example, let's assume a simple cost calculation based on the decision variables\n",
    "    return net_present_cost(pv_area, organic_material, generator_capacity, battery_capacity, 5)\n",
    "\n",
    "# Define the simulated annealing algorithm\n",
    "def simulated_annealing(initial_solution, decision_variables, cost_function, initial_temperature, cooling_rate, num_iterations):\n",
    "    costs = []\n",
    "    \n",
    "    current_solution = initial_solution\n",
    "    best_solution = initial_solution\n",
    "\n",
    "    current_cost = cost_function(*current_solution)\n",
    "    best_cost = current_cost\n",
    "\n",
    "    temperature = initial_temperature\n",
    "\n",
    "    for _ in range(num_iterations):\n",
    "        new_solution = []\n",
    "        for var in decision_variables:\n",
    "            # Generate a new random solution by perturbing the current solution\n",
    "            var_range = decision_variables[var]\n",
    "            new_var = random.uniform(var_range[0], var_range[1])\n",
    "            new_solution.append(new_var)\n",
    "        \n",
    "        \n",
    "        lcoe = get_lcoe(net_present_cost(new_solution[0], new_solution[3], new_solution[1], new_solution[2], 5), 5)\n",
    "        \n",
    "        new_cost = cost_function(*new_solution)\n",
    "\n",
    "        if new_cost < current_cost:\n",
    "            current_solution = new_solution\n",
    "            current_cost = new_cost\n",
    "        else:\n",
    "            acceptance_probability = math.exp((current_cost - new_cost) / temperature)\n",
    "            if random.random() < acceptance_probability:\n",
    "                current_solution = new_solution\n",
    "                current_cost = new_cost\n",
    "\n",
    "        if current_cost < best_cost:\n",
    "            best_solution = current_solution\n",
    "            best_cost = current_cost\n",
    "\n",
    "        temperature *= cooling_rate\n",
    "        \n",
    "        costs.append(best_cost)\n",
    "\n",
    "    return costs, best_solution\n",
    "\n"
   ]
  },
  {
   "cell_type": "code",
   "execution_count": 92,
   "id": "terminal-holder",
   "metadata": {},
   "outputs": [],
   "source": [
    "def plot(values, xlabel, ylabel, filename):\n",
    "    plt.plot(values)\n",
    "    plt.xlabel(xlabel)\n",
    "    plt.ylabel(ylabel)\n",
    "    plt.title(' ')\n",
    "    plt.savefig(filename, dpi=300)\n",
    "    plt.show()"
   ]
  },
  {
   "cell_type": "code",
   "execution_count": 93,
   "id": "particular-bullet",
   "metadata": {},
   "outputs": [
    {
     "data": {
      "image/png": "[encoded data removed]",
      "text/plain": [
       "<Figure size 432x288 with 1 Axes>"
      ]
     },
     "metadata": {
      "needs_background": "light"
     },
     "output_type": "display_data"
    }
   ],
   "source": [
    "plot(solar_irrad_values, \"hour\", \"solar irradiation\", \"solar_irradiation.png\")"
   ]
  },
  {
   "cell_type": "code",
   "execution_count": 94,
   "id": "likely-device",
   "metadata": {},
   "outputs": [
    {
     "data": {
      "image/png": "[encoded data removed]",
      "text/plain": [
       "<Figure size 432x288 with 1 Axes>"
      ]
     },
     "metadata": {
      "needs_background": "light"
     },
     "output_type": "display_data"
    }
   ],
   "source": [
    "plot(ambient_temp_values, \"hour\", \"temperature\", \"temperature.png\")"
   ]
  },
  {
   "cell_type": "code",
   "execution_count": 87,
   "id": "inner-stamp",
   "metadata": {},
   "outputs": [],
   "source": [
    "def npc_annealing(initial_temperature, cooling_rate, num_iterations):\n",
    "    \n",
    "    # Define the parameters and decision variables of your hybrid energy system\n",
    "    decision_variables = {\n",
    "        'pv_area': (100, 1000),  # Minimum and maximum allowable PV area\n",
    "        'generator_capacity': (10, 40),  # Minimum and maximum allowable generator capacity\n",
    "        'battery_capacity': (1, 50),  # Minimum and maximum allowable battery capacity\n",
    "        'organic_material': (1, 1000)  # Minimum and maximum allowable total organic material\n",
    "    }\n",
    "\n",
    "\n",
    "    # Set the initial solution, temperature, cooling rate, and number of iterations\n",
    "    initial_solution = [500, 50, 250, 5]  # Initial decision variable values\n",
    "\n",
    "\n",
    "    # Run the simulated annealing algorithm\n",
    "    costs, best_solution = simulated_annealing(initial_solution, decision_variables, calculate_net_present_cost, initial_temperature, cooling_rate, num_iterations)\n",
    "    lcoe_val = get_lcoe(net_present_cost(best_solution[0], best_solution[3], best_solution[1], best_solution[2], 5), 5)\n",
    "    # Print the best solution and its corresponding cost\n",
    "    print(\"Best Solution:\")\n",
    "    print(\"PV Area: %.2f\" % best_solution[0])\n",
    "    print(\"Generator Capacity: %.2f\" % best_solution[1])\n",
    "    print(\"Battery Capacity: %.2f\" %battery_capacity(best_solution[2]) )\n",
    "    print(\"Total Organic Material: %.2f\" % best_solution[3])\n",
    "    print(\"Net Present Cost: %.2f\" % calculate_net_present_cost(*best_solution))\n",
    "    print(\"LCOE: %.2f\" % lcoe_val)\n",
    "    \n",
    "    return costs"
   ]
  },
  {
   "cell_type": "code",
   "execution_count": 90,
   "id": "proof-upper",
   "metadata": {},
   "outputs": [
    {
     "name": "stdout",
     "output_type": "stream",
     "text": [
      "Best Solution:\n",
      "PV Area: 168.08\n",
      "Generator Capacity: 38.36\n",
      "Battery Capacity: 19.16\n",
      "Total Organic Material: 6.37\n",
      "Net Present Cost: 25552976.61\n",
      "LCOE: 3.21\n"
     ]
    },
    {
     "data": {
      "image/png": "[encoded data removed]",
      "text/plain": [
       "<Figure size 432x288 with 1 Axes>"
      ]
     },
     "metadata": {
      "needs_background": "light"
     },
     "output_type": "display_data"
    }
   ],
   "source": [
    "initial_temperature = 100\n",
    "cooling_rate = 0.75\n",
    "num_iterations = 1000\n",
    "npc_results = npc_annealing(initial_temperature, cooling_rate, num_iterations)"
   ]
  },
  {
   "cell_type": "code",
   "execution_count": 95,
   "id": "impressed-vaccine",
   "metadata": {},
   "outputs": [
    {
     "data": {
      "image/png": "[encoded data removed]",
      "text/plain": [
       "<Figure size 432x288 with 1 Axes>"
      ]
     },
     "metadata": {
      "needs_background": "light"
     },
     "output_type": "display_data"
    }
   ],
   "source": [
    "plot(npc_results, \"iteration\", \"NPC\", \"NPC1.png\")"
   ]
  },
  {
   "cell_type": "code",
   "execution_count": 96,
   "id": "brutal-nightmare",
   "metadata": {},
   "outputs": [
    {
     "name": "stdout",
     "output_type": "stream",
     "text": [
      "Best Solution:\n",
      "PV Area: 199.33\n",
      "Generator Capacity: 24.43\n",
      "Battery Capacity: 38.99\n",
      "Total Organic Material: 9.07\n",
      "Net Present Cost: 26862701.62\n",
      "LCOE: 3.37\n"
     ]
    },
    {
     "data": {
      "image/png": "[encoded data removed]",
      "text/plain": [
       "<Figure size 432x288 with 1 Axes>"
      ]
     },
     "metadata": {
      "needs_background": "light"
     },
     "output_type": "display_data"
    }
   ],
   "source": [
    "initial_temperature2 = 100\n",
    "cooling_rate2 = 0.75\n",
    "num_iterations2 = 1000\n",
    "npc_results2 = npc_annealing(initial_temperature, cooling_rate, num_iterations)\n",
    "plot(npc_results2, \"iteration\", \"NPC\", \"NPC2.png\")"
   ]
  },
  {
   "cell_type": "code",
   "execution_count": null,
   "id": "progressive-comparison",
   "metadata": {},
   "outputs": [],
   "source": []
  },
  {
   "cell_type": "code",
   "execution_count": null,
   "id": "essential-circular",
   "metadata": {},
   "outputs": [],
   "source": []
  }
 ],
 "metadata": {
  "kernelspec": {
   "display_name": "Python 3",
   "language": "python",
   "name": "python3"
  },
  "language_info": {
   "codemirror_mode": {
    "name": "ipython",
    "version": 3
   },
   "file_extension": ".py",
   "mimetype": "text/x-python",
   "name": "python",
   "nbconvert_exporter": "python",
   "pygments_lexer": "ipython3",
   "version": "3.9.6"
  }
 },
 "nbformat": 4,
 "nbformat_minor": 5
}
